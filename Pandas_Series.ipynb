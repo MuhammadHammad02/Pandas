{
  "nbformat": 4,
  "nbformat_minor": 0,
  "metadata": {
    "colab": {
      "provenance": [],
      "authorship_tag": "ABX9TyOHkQlfowS8RNJ/542NdRvh",
      "include_colab_link": true
    },
    "kernelspec": {
      "name": "python3",
      "display_name": "Python 3"
    },
    "language_info": {
      "name": "python"
    }
  },
  "cells": [
    {
      "cell_type": "markdown",
      "metadata": {
        "id": "view-in-github",
        "colab_type": "text"
      },
      "source": [
        "<a href=\"https://colab.research.google.com/github/MuhammadHammad02/Pandas/blob/main/Pandas_Series.ipynb\" target=\"_parent\"><img src=\"https://colab.research.google.com/assets/colab-badge.svg\" alt=\"Open In Colab\"/></a>"
      ]
    },
    {
      "cell_type": "code",
      "execution_count": 1,
      "metadata": {
        "id": "cnEt19qQMd_8"
      },
      "outputs": [],
      "source": [
        "import numpy as np\n",
        "import pandas as pd"
      ]
    },
    {
      "cell_type": "code",
      "source": [
        "marks = [55,40,88,69,55,58,69,99,11]"
      ],
      "metadata": {
        "id": "1A18UeO1NGF3"
      },
      "execution_count": 2,
      "outputs": []
    },
    {
      "cell_type": "code",
      "source": [
        "#index are created by using index parametter\n",
        "\n",
        "series1 = pd.Series(marks, index=['python','web','flutter','javascript','python','web','flutter','python','ai'])\n",
        "series1"
      ],
      "metadata": {
        "colab": {
          "base_uri": "https://localhost:8080/"
        },
        "id": "zzvSEUxdPW4r",
        "outputId": "9889787f-7442-4dd3-cbb3-a501e5d1a929"
      },
      "execution_count": 4,
      "outputs": [
        {
          "output_type": "execute_result",
          "data": {
            "text/plain": [
              "python        55\n",
              "web           40\n",
              "flutter       88\n",
              "javascript    69\n",
              "python        55\n",
              "web           58\n",
              "flutter       69\n",
              "python        99\n",
              "ai            11\n",
              "dtype: int64"
            ]
          },
          "metadata": {},
          "execution_count": 4
        }
      ]
    },
    {
      "cell_type": "code",
      "source": [
        "#for change data type\n",
        "\n",
        "series1 = pd.Series(marks, index=['python','web','flutter','javascript','python','web','flutter','python','ai'],dtype='float')\n",
        "series1"
      ],
      "metadata": {
        "colab": {
          "base_uri": "https://localhost:8080/"
        },
        "id": "GDYhEq8qRim9",
        "outputId": "bc901230-8761-4145-e752-2a2ae7afa9d7"
      },
      "execution_count": 5,
      "outputs": [
        {
          "output_type": "execute_result",
          "data": {
            "text/plain": [
              "python        55.0\n",
              "web           40.0\n",
              "flutter       88.0\n",
              "javascript    69.0\n",
              "python        55.0\n",
              "web           58.0\n",
              "flutter       69.0\n",
              "python        99.0\n",
              "ai            11.0\n",
              "dtype: float64"
            ]
          },
          "metadata": {},
          "execution_count": 5
        }
      ]
    },
    {
      "cell_type": "code",
      "source": [
        "# accessing the data using indexing or slicing\n",
        "\n",
        "series2= pd.Series([99,66,33,22,11,44,55,66,77,88])\n",
        "series2"
      ],
      "metadata": {
        "colab": {
          "base_uri": "https://localhost:8080/"
        },
        "id": "yxH0IwN8SFwU",
        "outputId": "615544c4-eb86-4264-ffba-3a59d4e5d043"
      },
      "execution_count": 8,
      "outputs": [
        {
          "output_type": "execute_result",
          "data": {
            "text/plain": [
              "0    99\n",
              "1    66\n",
              "2    33\n",
              "3    22\n",
              "4    11\n",
              "5    44\n",
              "6    55\n",
              "7    66\n",
              "8    77\n",
              "9    88\n",
              "dtype: int64"
            ]
          },
          "metadata": {},
          "execution_count": 8
        }
      ]
    },
    {
      "cell_type": "code",
      "source": [
        "series2[0]"
      ],
      "metadata": {
        "colab": {
          "base_uri": "https://localhost:8080/"
        },
        "id": "psVDDrO6Tgkp",
        "outputId": "8b809046-0f22-40c9-f11e-987cc2edae84"
      },
      "execution_count": 9,
      "outputs": [
        {
          "output_type": "execute_result",
          "data": {
            "text/plain": [
              "99"
            ]
          },
          "metadata": {},
          "execution_count": 9
        }
      ]
    },
    {
      "cell_type": "code",
      "source": [
        "series2[5]"
      ],
      "metadata": {
        "colab": {
          "base_uri": "https://localhost:8080/"
        },
        "id": "1Rrr4salTmAA",
        "outputId": "5c961d74-083e-4d98-e0d6-aad7cabbd41c"
      },
      "execution_count": 10,
      "outputs": [
        {
          "output_type": "execute_result",
          "data": {
            "text/plain": [
              "44"
            ]
          },
          "metadata": {},
          "execution_count": 10
        }
      ]
    },
    {
      "cell_type": "code",
      "source": [
        "series2[0:8]"
      ],
      "metadata": {
        "colab": {
          "base_uri": "https://localhost:8080/"
        },
        "id": "IioUxXFQTqeu",
        "outputId": "c942cf2c-0f40-474b-a0f7-1a45f686f62c"
      },
      "execution_count": 11,
      "outputs": [
        {
          "output_type": "execute_result",
          "data": {
            "text/plain": [
              "0    99\n",
              "1    66\n",
              "2    33\n",
              "3    22\n",
              "4    11\n",
              "5    44\n",
              "6    55\n",
              "7    66\n",
              "dtype: int64"
            ]
          },
          "metadata": {},
          "execution_count": 11
        }
      ]
    },
    {
      "cell_type": "code",
      "source": [
        "series1.values"
      ],
      "metadata": {
        "colab": {
          "base_uri": "https://localhost:8080/"
        },
        "id": "BiugBb7XX93-",
        "outputId": "4158e3d9-bf21-49fa-9e5b-0795d40e446e"
      },
      "execution_count": 12,
      "outputs": [
        {
          "output_type": "execute_result",
          "data": {
            "text/plain": [
              "array([55., 40., 88., 69., 55., 58., 69., 99., 11.])"
            ]
          },
          "metadata": {},
          "execution_count": 12
        }
      ]
    },
    {
      "cell_type": "code",
      "source": [
        "series1.index"
      ],
      "metadata": {
        "colab": {
          "base_uri": "https://localhost:8080/"
        },
        "id": "kKlX_HNJYEcW",
        "outputId": "6483be90-30b1-4e97-ef66-2de59a444156"
      },
      "execution_count": 13,
      "outputs": [
        {
          "output_type": "execute_result",
          "data": {
            "text/plain": [
              "Index(['python', 'web', 'flutter', 'javascript', 'python', 'web', 'flutter',\n",
              "       'python', 'ai'],\n",
              "      dtype='object')"
            ]
          },
          "metadata": {},
          "execution_count": 13
        }
      ]
    },
    {
      "cell_type": "code",
      "source": [
        "series1['ai']"
      ],
      "metadata": {
        "colab": {
          "base_uri": "https://localhost:8080/"
        },
        "id": "NQeBKMK3YJWT",
        "outputId": "3fabe49a-0b17-4ce0-b273-e4c66a220b03"
      },
      "execution_count": 14,
      "outputs": [
        {
          "output_type": "execute_result",
          "data": {
            "text/plain": [
              "11.0"
            ]
          },
          "metadata": {},
          "execution_count": 14
        }
      ]
    },
    {
      "cell_type": "code",
      "source": [
        "series1.isnull()"
      ],
      "metadata": {
        "colab": {
          "base_uri": "https://localhost:8080/"
        },
        "id": "zCWMyh-CYgh_",
        "outputId": "2a4510e1-a2c5-4373-a4c2-c80ad5a14858"
      },
      "execution_count": 15,
      "outputs": [
        {
          "output_type": "execute_result",
          "data": {
            "text/plain": [
              "python        False\n",
              "web           False\n",
              "flutter       False\n",
              "javascript    False\n",
              "python        False\n",
              "web           False\n",
              "flutter       False\n",
              "python        False\n",
              "ai            False\n",
              "dtype: bool"
            ]
          },
          "metadata": {},
          "execution_count": 15
        }
      ]
    }
  ]
}